{
 "cells": [
  {
   "cell_type": "code",
   "execution_count": 1,
   "metadata": {},
   "outputs": [
    {
     "name": "stdout",
     "output_type": "stream",
     "text": [
      "SR University\n",
      "SR Unive\n",
      "Univers\n",
      "Univers\n",
      "SR University\n",
      "R University\n",
      "S nvriy\n",
      "SUvsy\n",
      "S nvri\n",
      "ytisrevinU RS\n",
      "yirvn S\n"
     ]
    }
   ],
   "source": [
    "s = \"SR University\"\n",
    "print(s[:])\n",
    "print(s[0:8])\n",
    "print(s[3:10])\n",
    "print(s[-10:-3])\n",
    "print(s[:13])\n",
    "print(s[1:13:1])\n",
    "print(s[0:13:2])\n",
    "print(s[0:13:3])\n",
    "print(s[-13:-1:2])\n",
    "print(s[::-1])\n",
    "print(s[::-2])"
   ]
  }
 ],
 "metadata": {
  "kernelspec": {
   "display_name": "Python 3",
   "language": "python",
   "name": "python3"
  },
  "language_info": {
   "codemirror_mode": {
    "name": "ipython",
    "version": 3
   },
   "file_extension": ".py",
   "mimetype": "text/x-python",
   "name": "python",
   "nbconvert_exporter": "python",
   "pygments_lexer": "ipython3",
   "version": "3.10.13"
  }
 },
 "nbformat": 4,
 "nbformat_minor": 2
}
